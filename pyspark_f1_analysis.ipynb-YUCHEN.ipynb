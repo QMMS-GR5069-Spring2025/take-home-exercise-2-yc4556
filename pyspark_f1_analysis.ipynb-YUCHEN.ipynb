{
 "cells": [
  {
   "cell_type": "markdown",
   "metadata": {
    "application/vnd.databricks.v1+cell": {
     "cellMetadata": {},
     "inputWidgets": {},
     "nuid": "b0521bab-7f5e-4658-bd35-6a41b53904ee",
     "showTitle": false,
     "tableResultSettingsMap": {},
     "title": ""
    }
   },
   "source": [
    "Q1"
   ]
  },
  {
   "cell_type": "code",
   "execution_count": 0,
   "metadata": {
    "application/vnd.databricks.v1+cell": {
     "cellMetadata": {
      "byteLimit": 2048000,
      "rowLimit": 10000
     },
     "inputWidgets": {},
     "nuid": "5c264236-569d-4718-88de-88478612a905",
     "showTitle": false,
     "tableResultSettingsMap": {},
     "title": ""
    }
   },
   "outputs": [],
   "source": [
    "# Read all datasets\n",
    "df_laptimes = spark.read.csv(\"/FileStore/tables/lap_times.csv\", header=True, inferSchema=True)\n",
    "df_drivers = spark.read.csv(\"/FileStore/tables/drivers.csv\", header=True, inferSchema=True)\n",
    "df_pitstops = spark.read.csv(\"/FileStore/tables/pit_stops.csv\", header=True, inferSchema=True)\n",
    "df_results = spark.read.csv(\"/FileStore/tables/results.csv\", header=True, inferSchema=True)\n",
    "df_races = spark.read.csv(\"/FileStore/tables/races.csv\", header=True, inferSchema=True)\n"
   ]
  },
  {
   "cell_type": "code",
   "execution_count": 0,
   "metadata": {
    "application/vnd.databricks.v1+cell": {
     "cellMetadata": {
      "byteLimit": 2048000,
      "rowLimit": 10000
     },
     "inputWidgets": {},
     "nuid": "44f30f3c-d271-4c25-9553-df5a1dbe6a6f",
     "showTitle": false,
     "tableResultSettingsMap": {},
     "title": ""
    }
   },
   "outputs": [],
   "source": [
    "from pyspark.sql.functions import avg, round as spark_round\n",
    "\n",
    "# Calculate average pit stop duration by driver and race\n",
    "df_avg_pitstop = df_pitstops.groupBy(\"raceId\", \"driverId\") \\\n",
    "    .agg(spark_round(avg(\"duration\"), 2).alias(\"avg_pit_duration\"))\n",
    "\n",
    "df_avg_pitstop.show(10)\n"
   ]
  },
  {
   "cell_type": "markdown",
   "metadata": {
    "application/vnd.databricks.v1+cell": {
     "cellMetadata": {},
     "inputWidgets": {},
     "nuid": "e713bae2-d6e1-4d3d-b1f9-1ebc5273ceee",
     "showTitle": false,
     "tableResultSettingsMap": {},
     "title": ""
    }
   },
   "source": [
    "Q2"
   ]
  },
  {
   "cell_type": "code",
   "execution_count": 0,
   "metadata": {
    "application/vnd.databricks.v1+cell": {
     "cellMetadata": {
      "byteLimit": 2048000,
      "rowLimit": 10000
     },
     "inputWidgets": {},
     "nuid": "aa051ab5-146e-4ae5-ba46-57c4b07c0187",
     "showTitle": false,
     "tableResultSettingsMap": {},
     "title": ""
    }
   },
   "outputs": [],
   "source": [
    "# Get drivers who won each race (position = 1)\n",
    "df_winners = df_results.filter(\"position = 1\").select(\"raceId\", \"driverId\")\n"
   ]
  },
  {
   "cell_type": "code",
   "execution_count": 0,
   "metadata": {
    "application/vnd.databricks.v1+cell": {
     "cellMetadata": {
      "byteLimit": 2048000,
      "rowLimit": 10000
     },
     "inputWidgets": {},
     "nuid": "7e9ba370-75a0-4a64-a6d4-ec9800aeab14",
     "showTitle": false,
     "tableResultSettingsMap": {},
     "title": ""
    }
   },
   "outputs": [],
   "source": [
    "# Join with average pit stop data\n",
    "df_winner_pitstop = df_winners.join(df_avg_pitstop, on=[\"raceId\", \"driverId\"], how=\"left\")\n"
   ]
  },
  {
   "cell_type": "code",
   "execution_count": 0,
   "metadata": {
    "application/vnd.databricks.v1+cell": {
     "cellMetadata": {
      "byteLimit": 2048000,
      "rowLimit": 10000
     },
     "inputWidgets": {},
     "nuid": "6c114dbc-c886-4a39-a113-f5a1b84c4032",
     "showTitle": false,
     "tableResultSettingsMap": {},
     "title": ""
    }
   },
   "outputs": [],
   "source": [
    "# Sort winners by average pit stop duration\n",
    "df_winner_pitstop.orderBy(\"avg_pit_duration\").show(10)\n"
   ]
  },
  {
   "cell_type": "markdown",
   "metadata": {
    "application/vnd.databricks.v1+cell": {
     "cellMetadata": {},
     "inputWidgets": {},
     "nuid": "fe0b1ca2-b89d-4b07-9b61-9047a6710ece",
     "showTitle": false,
     "tableResultSettingsMap": {},
     "title": ""
    }
   },
   "source": [
    "Q3"
   ]
  },
  {
   "cell_type": "code",
   "execution_count": 0,
   "metadata": {
    "application/vnd.databricks.v1+cell": {
     "cellMetadata": {
      "byteLimit": 2048000,
      "rowLimit": 10000
     },
     "inputWidgets": {},
     "nuid": "cbfed1cc-d36a-42f7-9319-69d48c244329",
     "showTitle": false,
     "tableResultSettingsMap": {},
     "title": ""
    }
   },
   "outputs": [],
   "source": [
    "from pyspark.sql.functions import when, col, upper, substring\n",
    "\n",
    "# Fill missing codes with first 3 letters of the surname\n",
    "df_drivers_fixed = df_drivers.withColumn(\n",
    "    \"code\",\n",
    "    when(col(\"code\").isNull() | (col(\"code\") == \"\"), upper(substring(col(\"surname\"), 1, 3)))\n",
    "    .otherwise(col(\"code\"))\n",
    ")\n",
    "\n"
   ]
  },
  {
   "cell_type": "code",
   "execution_count": 0,
   "metadata": {
    "application/vnd.databricks.v1+cell": {
     "cellMetadata": {
      "byteLimit": 2048000,
      "rowLimit": 10000
     },
     "inputWidgets": {},
     "nuid": "816db49b-dc6d-476b-a329-6370d987b87e",
     "showTitle": false,
     "tableResultSettingsMap": {},
     "title": ""
    }
   },
   "outputs": [],
   "source": [
    "# Show updated drivers with generated or existing codes\n",
    "df_drivers_fixed.select(\"driverId\", \"forename\", \"surname\", \"code\").show(10)\n"
   ]
  },
  {
   "cell_type": "markdown",
   "metadata": {
    "application/vnd.databricks.v1+cell": {
     "cellMetadata": {},
     "inputWidgets": {},
     "nuid": "9e0c16aa-abcf-405b-91b0-f1880e878963",
     "showTitle": false,
     "tableResultSettingsMap": {},
     "title": ""
    }
   },
   "source": [
    "Q4"
   ]
  },
  {
   "cell_type": "code",
   "execution_count": 0,
   "metadata": {
    "application/vnd.databricks.v1+cell": {
     "cellMetadata": {
      "byteLimit": 2048000,
      "rowLimit": 10000
     },
     "inputWidgets": {},
     "nuid": "5685fd35-b0bc-4d86-965d-981a7ac6aec9",
     "showTitle": false,
     "tableResultSettingsMap": {},
     "title": ""
    }
   },
   "outputs": [],
   "source": [
    "from pyspark.sql.functions import to_date, current_date, datediff\n",
    "\n",
    "# Convert dob to date and calculate age (in years)\n",
    "df_drivers_with_age = df_drivers_fixed.withColumn(\"dob\", to_date(\"dob\")) \\\n",
    "    .withColumn(\"Age\", (datediff(current_date(), \"dob\") / 365).cast(\"int\"))\n"
   ]
  },
  {
   "cell_type": "code",
   "execution_count": 0,
   "metadata": {
    "application/vnd.databricks.v1+cell": {
     "cellMetadata": {
      "byteLimit": 2048000,
      "rowLimit": 10000
     },
     "inputWidgets": {},
     "nuid": "c00dff25-480c-4906-bcff-e927dfbd9ada",
     "showTitle": false,
     "tableResultSettingsMap": {},
     "title": ""
    }
   },
   "outputs": [],
   "source": [
    "# Join drivers with race results\n",
    "df_race_driver_age = df_results.select(\"raceId\", \"driverId\") \\\n",
    "    .join(df_drivers_with_age.select(\"driverId\", \"Age\"), on=\"driverId\", how=\"left\")\n"
   ]
  },
  {
   "cell_type": "code",
   "execution_count": 0,
   "metadata": {
    "application/vnd.databricks.v1+cell": {
     "cellMetadata": {
      "byteLimit": 2048000,
      "rowLimit": 10000
     },
     "inputWidgets": {},
     "nuid": "d8ef0c87-610e-4487-a6ca-0d0ceeedc037",
     "showTitle": false,
     "tableResultSettingsMap": {},
     "title": ""
    }
   },
   "outputs": [],
   "source": [
    "from pyspark.sql.functions import min, max\n",
    "\n",
    "# Group by race and get min & max age\n",
    "df_race_age_extremes = df_race_driver_age.groupBy(\"raceId\").agg(\n",
    "    min(\"Age\").alias(\"youngest_age\"),\n",
    "    max(\"Age\").alias(\"oldest_age\")\n",
    ")\n",
    "\n",
    "df_race_age_extremes.show(10)\n"
   ]
  },
  {
   "cell_type": "markdown",
   "metadata": {
    "application/vnd.databricks.v1+cell": {
     "cellMetadata": {},
     "inputWidgets": {},
     "nuid": "184d62f4-1bd0-4357-9df2-ee86c2804dca",
     "showTitle": false,
     "tableResultSettingsMap": {},
     "title": ""
    }
   },
   "source": [
    "Q5"
   ]
  },
  {
   "cell_type": "code",
   "execution_count": 0,
   "metadata": {
    "application/vnd.databricks.v1+cell": {
     "cellMetadata": {
      "byteLimit": 2048000,
      "rowLimit": 10000
     },
     "inputWidgets": {},
     "nuid": "8c420209-aa5b-41ca-8e01-1c7287ad04d3",
     "showTitle": false,
     "tableResultSettingsMap": {},
     "title": ""
    }
   },
   "outputs": [],
   "source": [
    "# Count total wins per driver\n",
    "df_win_count = df_results.filter(\"position = 1\") \\\n",
    "    .groupBy(\"driverId\").count().withColumnRenamed(\"count\", \"win_count\")\n",
    "\n",
    "# Count total non-finish (loss) per driver\n",
    "df_loss_count = df_results.filter((col(\"position\").isNull()) | (col(\"position\") == \"\\\\N\")) \\\n",
    "    .groupBy(\"driverId\").count().withColumnRenamed(\"count\", \"loss_count\")\n"
   ]
  },
  {
   "cell_type": "code",
   "execution_count": 0,
   "metadata": {
    "application/vnd.databricks.v1+cell": {
     "cellMetadata": {
      "byteLimit": 2048000,
      "rowLimit": 10000
     },
     "inputWidgets": {},
     "nuid": "8694880c-6f53-422a-9f16-d7e2dbe68cfc",
     "showTitle": false,
     "tableResultSettingsMap": {},
     "title": ""
    }
   },
   "outputs": [],
   "source": [
    "# Combine win and loss counts\n",
    "df_win_loss = df_win_count.join(df_loss_count, on=\"driverId\", how=\"outer\").fillna(0)\n",
    "df_win_loss.orderBy(col(\"win_count\").desc(), col(\"loss_count\").desc()).show(10)\n"
   ]
  },
  {
   "cell_type": "markdown",
   "metadata": {
    "application/vnd.databricks.v1+cell": {
     "cellMetadata": {},
     "inputWidgets": {},
     "nuid": "bce5293c-dc63-4d33-9499-5ccd89ea97dc",
     "showTitle": false,
     "tableResultSettingsMap": {},
     "title": ""
    }
   },
   "source": [
    "Q6:Which driver has participated in the most races?"
   ]
  },
  {
   "cell_type": "code",
   "execution_count": 0,
   "metadata": {
    "application/vnd.databricks.v1+cell": {
     "cellMetadata": {
      "byteLimit": 2048000,
      "rowLimit": 10000
     },
     "inputWidgets": {},
     "nuid": "4217ce06-adc5-4955-a76a-99ffe682c07a",
     "showTitle": false,
     "tableResultSettingsMap": {},
     "title": ""
    }
   },
   "outputs": [],
   "source": [
    "# Count number of races participated by each driver\n",
    "df_race_count = df_results.groupBy(\"driverId\").count().withColumnRenamed(\"count\", \"races_participated\")\n",
    "\n",
    "# Join with driver names\n",
    "df_driver_participation = df_race_count.join(\n",
    "    df_drivers_fixed.select(\"driverId\", \"forename\", \"surname\"),\n",
    "    on=\"driverId\",\n",
    "    how=\"left\"\n",
    ")\n",
    "\n",
    "# Sort descending and show top 10\n",
    "df_driver_participation.orderBy(\"races_participated\", ascending=False).show(10)\n"
   ]
  }
 ],
 "metadata": {
  "application/vnd.databricks.v1+notebook": {
   "computePreferences": null,
   "dashboards": [],
   "environmentMetadata": {
    "base_environment": "",
    "environment_version": "2"
   },
   "language": "python",
   "notebookMetadata": {
    "pythonIndentUnit": 4
   },
   "notebookName": "Untitled Notebook 2025-03-25 20:13:36",
   "widgets": {}
  },
  "language_info": {
   "name": "python"
  }
 },
 "nbformat": 4,
 "nbformat_minor": 0
}